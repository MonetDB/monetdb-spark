{
 "cells": [
  {
   "cell_type": "markdown",
   "id": "bb6cf4dc-260e-429c-a91d-feae8b192bc4",
   "metadata": {},
   "source": [
    "# Jupyter Notebook with MonetDB-Spark\n",
    "\n",
    "This notebook demonstrates how to use monetdb-spark with pyspark in a Jupyter notebook.\n",
    "The most important part to make it load the required jars: the monetdb-spark jar and the monetdb-jdbc jar.\n",
    "\n",
    "In the example below, they are in the directory /home/jvr/work/2025/monetdb-spark/jars: "
   ]
  },
  {
   "cell_type": "code",
   "execution_count": 1,
   "id": "fd96703b-697d-477a-9dd0-481f19c4833e",
   "metadata": {},
   "outputs": [
    {
     "data": {
      "text/plain": [
       "['/home/jvr/work/2025/monetdb-spark/jars/monetdb-spark-0.1.1-SNAPSHOT.jar',\n",
       " '/home/jvr/work/2025/monetdb-spark/jars/monetdb-jdbc-12.1-SNAPSHOT.jar']"
      ]
     },
     "execution_count": 1,
     "metadata": {},
     "output_type": "execute_result"
    }
   ],
   "source": [
    "from glob import glob\n",
    "SPARK_JARS = glob('/home/jvr/work/2025/monetdb-spark/jars/*')\n",
    "SPARK_JARS"
   ]
  },
  {
   "cell_type": "markdown",
   "id": "0267358a-3cea-43af-9e96-c5c4c8e373ac",
   "metadata": {},
   "source": [
    "### Create a Spark context with those jars on the classpath\n",
    "\n",
    "We set the Spark config setting `spark.jars` to a comma-separated list of our jars"
   ]
  },
  {
   "cell_type": "code",
   "execution_count": 2,
   "id": "8e777711-e377-4106-b985-f44f09863c16",
   "metadata": {},
   "outputs": [
    {
     "name": "stderr",
     "output_type": "stream",
     "text": [
      "WARNING: Using incubator modules: jdk.incubator.vector\n",
      "Using Spark's default log4j profile: org/apache/spark/log4j2-defaults.properties\n",
      "25/08/25 13:31:55 WARN Utils: Your hostname, totoro, resolves to a loopback address: 127.0.1.1; using 100.66.66.19 instead (on interface wlp165s0)\n",
      "25/08/25 13:31:55 WARN Utils: Set SPARK_LOCAL_IP if you need to bind to another address\n",
      "25/08/25 13:31:55 WARN NativeCodeLoader: Unable to load native-hadoop library for your platform... using builtin-java classes where applicable\n",
      "Using Spark's default log4j profile: org/apache/spark/log4j2-defaults.properties\n",
      "Setting default log level to \"WARN\".\n",
      "To adjust logging level use sc.setLogLevel(newLevel). For SparkR, use setLogLevel(newLevel).\n"
     ]
    }
   ],
   "source": [
    "from pyspark.sql import SparkSession\n",
    "from pyspark.sql.functions import *\n",
    "spark = SparkSession.builder \\\n",
    "    .appName('sparknotebook') \\\n",
    "    .config('spark.jars', ','.join(SPARK_JARS)) \\\n",
    "    .getOrCreate()"
   ]
  },
  {
   "cell_type": "markdown",
   "id": "1268631f-7453-40c8-b5f5-c51054a49d96",
   "metadata": {},
   "source": [
    "### Check if the jars were succesfully loaded\n",
    "\n",
    "Without monetdb-jdbc.jar, Spark cannot connect to MonetDB.\n",
    "\n",
    "Without monetdb-spark.jar, Spark cannot create a table with BOOLEAN columns in MonetDB."
   ]
  },
  {
   "cell_type": "code",
   "execution_count": 3,
   "id": "6dc83318-13f6-4c16-b2a5-bdbc056e21ba",
   "metadata": {},
   "outputs": [
    {
     "name": "stdout",
     "output_type": "stream",
     "text": [
      "+---+-----+\n",
      "| id|    b|\n",
      "+---+-----+\n",
      "|  0| true|\n",
      "|  1|false|\n",
      "|  2| true|\n",
      "|  3|false|\n",
      "|  4| true|\n",
      "+---+-----+\n",
      "\n"
     ]
    }
   ],
   "source": [
    "df = spark.range(5).withColumn('b', col('id') % 2 == 0)\n",
    "df.show()"
   ]
  },
  {
   "cell_type": "code",
   "execution_count": 6,
   "id": "c0f6ceba-5d57-410a-b553-9fb9c8c0db92",
   "metadata": {},
   "outputs": [
    {
     "name": "stderr",
     "output_type": "stream",
     "text": [
      "25/08/25 13:46:36 WARN JdbcUtils: Requested isolation level 1 is not supported; falling back to default isolation level 8\n",
      "25/08/25 13:46:36 WARN JdbcUtils: Requested isolation level 1 is not supported; falling back to default isolation level 8\n",
      "25/08/25 13:46:36 WARN JdbcUtils: Requested isolation level 1 is not supported; falling back to default isolation level 8\n",
      "25/08/25 13:46:36 WARN JdbcUtils: Requested isolation level 1 is not supported; falling back to default isolation level 8\n",
      "25/08/25 13:46:36 WARN JdbcUtils: Requested isolation level 1 is not supported; falling back to default isolation level 8\n"
     ]
    }
   ],
   "source": [
    "OPTIONS = dict(\n",
    "    driver='org.monetdb.jdbc.MonetDriver',\n",
    "    url='jdbc:monetdb://localhost:44002/testspark',\n",
    "    user='monetdb',\n",
    "    password='monetdb',\n",
    "    dbtable='foo',\n",
    ")\n",
    "df.write.format(\"jdbc\").mode('overwrite').options(**OPTIONS).save()"
   ]
  },
  {
   "cell_type": "markdown",
   "id": "57c36286-2f5a-41c0-a06e-51f988be9af9",
   "metadata": {},
   "source": [
    "It worked! Now append some data using the MonetDB-specific data source:"
   ]
  },
  {
   "cell_type": "code",
   "execution_count": 7,
   "id": "aca4b27b-120c-4e9d-8127-d6d51e3ed847",
   "metadata": {},
   "outputs": [],
   "source": [
    "df.write.format(\"org.monetdb.spark\").mode('append').options(**OPTIONS).save()"
   ]
  },
  {
   "cell_type": "code",
   "execution_count": 8,
   "id": "04e50381-6a6f-48c5-9c62-6c7ea87293f7",
   "metadata": {},
   "outputs": [
    {
     "data": {
      "text/plain": [
       "10"
      ]
     },
     "execution_count": 8,
     "metadata": {},
     "output_type": "execute_result"
    }
   ],
   "source": [
    "spark.read.format('jdbc').options(**OPTIONS).load().count()"
   ]
  },
  {
   "cell_type": "markdown",
   "id": "939dd691-032e-4f97-96f5-71568178d54b",
   "metadata": {},
   "source": [
    "Yay!"
   ]
  }
 ],
 "metadata": {
  "kernelspec": {
   "display_name": "Python 3 (ipykernel)",
   "language": "python",
   "name": "python3"
  },
  "language_info": {
   "codemirror_mode": {
    "name": "ipython",
    "version": 3
   },
   "file_extension": ".py",
   "mimetype": "text/x-python",
   "name": "python",
   "nbconvert_exporter": "python",
   "pygments_lexer": "ipython3",
   "version": "3.11.4"
  }
 },
 "nbformat": 4,
 "nbformat_minor": 5
}
